{
 "cells": [
  {
   "cell_type": "markdown",
   "metadata": {},
   "source": [
    "# 基于Attention U-net快速识别山体滑坡区域"
   ]
  },
  {
   "cell_type": "markdown",
   "metadata": {},
   "source": [
    "## 安装两个需要使用的到包\n",
    "- segmentation-models：这是一个用于图像分割任务的深度学习模型库，这里我们主要使用这个包中的几个评估指标(metrics).\n",
    "- rasterio:主要是用于对读取和写入栅格数据的包。"
   ]
  },
  {
   "cell_type": "code",
   "execution_count": 1,
   "metadata": {},
   "outputs": [],
   "source": [
    "# !pip install segmentation-models rasterio"
   ]
  },
  {
   "cell_type": "markdown",
   "metadata": {},
   "source": [
    "## 导入本次论文复现需要使用到的包"
   ]
  },
  {
   "cell_type": "code",
   "execution_count": 2,
   "metadata": {},
   "outputs": [
    {
     "name": "stdout",
     "output_type": "stream",
     "text": [
      "Segmentation Models: using `keras` framework.\n"
     ]
    }
   ],
   "source": [
    "# 基础模块导入\n",
    "import numpy as np\n",
    "import pandas as pd\n",
    "import h5py\n",
    "import time\n",
    "import os\n",
    "import random\n",
    "import rasterio\n",
    "from matplotlib import pyplot as plt\n",
    "from sklearn.model_selection import train_test_split\n",
    "\n",
    "# TensorFlow和Keras相关模块导入\n",
    "import tensorflow as tf\n",
    "from tensorflow import keras\n",
    "from tensorflow.keras import backend as K\n",
    "from tensorflow.keras.layers import (Input, Conv2D, MaxPooling2D, UpSampling2D, concatenate, Conv2DTranspose,\n",
    "                                     BatchNormalization, Dropout, Activation, add, multiply, Lambda, \n",
    "                                     AveragePooling2D, average)\n",
    "from tensorflow.keras.models import Model, load_model\n",
    "from tensorflow.keras.optimizers import Adam, SGD, RMSprop\n",
    "from tensorflow.keras.initializers import glorot_normal, random_normal, random_uniform\n",
    "from tensorflow.keras.callbacks import ModelCheckpoint, TensorBoard, EarlyStopping\n",
    "from tensorflow.keras.metrics import MeanIoU\n",
    "from tensorflow.keras.applications import VGG19, densenet\n",
    "\n",
    "# 第三方模块导入\n",
    "import cv2\n",
    "import segmentation_models as sm\n",
    "from rasterio.plot import show\n",
    "\n",
    "# 确保segmentation_models使用的是TensorFlow版本的Keras,一般不会出现\n",
    "keras = tf.keras"
   ]
  },
  {
   "cell_type": "markdown",
   "metadata": {},
   "source": [
    "## 其他预设置和导入数据"
   ]
  },
  {
   "cell_type": "code",
   "execution_count": 3,
   "metadata": {},
   "outputs": [],
   "source": [
    "# 设置图像数据格式\n",
    "K.set_image_data_format('channels_last')\n",
    "#set_image_data_format('channels_last')是一个函数调用，它指定了图像数据的维度顺序。\n",
    "#在这种情况下，'channels_last'意味着图像数据的张量形式应该是(samples, height, width, channels)。即，通道维（如RGB颜色通道）位于张量的最后一个维度。这是TensorFlow的默认设置\n",
    "\n",
    "# 设置权重初始化方法\n",
    "kinit = 'glorot_normal'\n",
    "#glorot_normal'是Glorot正态分布初始化器。\n"
   ]
  },
  {
   "cell_type": "markdown",
   "metadata": {},
   "source": [
    "### 明确损失函数和评价指标"
   ]
  },
  {
   "cell_type": "markdown",
   "metadata": {},
   "source": [
    "当训练神经网络时，损失函数和评估指标扮演了不同的角色，它们对于模型的训练和评估至关重要。下面详细解释一下损失函数和评估指标的含义和作用：\n",
    "\n",
    "### 1. 损失函数（Loss Function）\n",
    "- **定义：** 损失函数是用来衡量模型预测值与真实标签之间的差异的函数。它是优化算法的目标函数，通过最小化损失函数，模型可以学习将输入映射到正确的输出。\n",
    "- **作用：**\n",
    "  - **指导训练：** 损失函数在模型训练过程中起着至关重要的作用，它通过计算模型输出与真实标签之间的误差来调整模型参数，使模型能够逐渐减小损失值，提高预测的准确性。\n",
    "  - **反向传播：** 通过梯度下降等优化算法计算损失函数的梯度，并沿着梯度的反方向更新模型的权重，以最小化损失函数。\n",
    "\n",
    "### 2. 评估指标（Metrics）\n",
    "- **定义：** 评估指标是用来评估模型性能和表现的指标，通常用于监测模型在训练和测试集上的表现。\n",
    "- **作用：**\n",
    "  - **性能评估：** 评估指标提供了一种度量模型性能的方式，比如精确率、召回率、F1分数等，可以帮助我们了解模型在各个方面的表现。\n",
    "  - **比较模型：** 通过评估指标，可以比较不同模型在相同任务上的表现，从而选择最适合问题的模型。\n",
    "  - **调试和优化：** 评估指标可以帮助我们发现模型存在的问题，并且帮助我们优化模型的性能。\n",
    "\n",
    "### 区别与联系\n",
    "- **区别：** 损失函数主要用于训练过程中指导模型参数的更新，评估指标用于评估模型的整体性能。\n",
    "- **联系：** 二者都是用来衡量模型的性能，但在不同的阶段发挥作用，共同协助训练出高性能的机器学习模型。\n",
    "\n",
    "综合来说，损失函数和评估指标在神经网络训练中起着不可替代的作用，它们共同帮助我们监控、调整和评估模型的性能，从而达到更好的训练效果和更可靠的模型表现。"
   ]
  },
  {
   "cell_type": "markdown",
   "metadata": {},
   "source": [
    "#### 1. 损失函数（Loss Function）\n"
   ]
  },
  {
   "cell_type": "markdown",
   "metadata": {},
   "source": [
    "<img src=\"../data/image/loss_function.png\" width=\"1000\" height=\"1500\">"
   ]
  },
  {
   "cell_type": "markdown",
   "metadata": {},
   "source": [
    "这段代码定义了两个函数，`dsc` 和 `dice_loss`，用于计算 Dice 系数和 Dice 损失。以下是它们的作用和原理：\n",
    "\n",
    "1. **Dice 系数 (Dice coefficient)：**\n",
    "   - `dsc` 函数用于计算预测结果与真实标签之间的 Dice 系数。Dice 系数是一种用来评估两个集合相似度的指标，常用于图像分割任务中。\n",
    "   - 具体计算过程为：首先将真实标签和预测结果展平成一维向量，然后计算它们的交集，最后根据 Dice 系数的公式计算得分。\n",
    "   - 公式：Dice = (2 * |Y_true ∩ Y_pred| + smooth) / (|Y_true| + |Y_pred| + smooth)，其中 |Y_true| 表示真实标签的元素数目，|Y_pred| 表示预测结果的元素数目。\n",
    "\n",
    "2. **Dice 损失 (Dice loss)：**\n",
    "   - `dice_loss` 函数通过取 1 减去 Dice 系数的方式，定义了 Dice 损失。这意味着 Dice 损失越小，Dice 系数越大，表示模型预测结果与真实标签越相似。\n",
    "   - 一般来说，优化目标是最小化 Dice 损失，以提高模型在图像分割任务中的性能。\n",
    "\n",
    "总的来说，这段代码实现了计算 Dice 系数和定义 Dice 损失的功能，用于评估模型在图像分割任务中的准确性和优化模型参数。Dice 系数和 Dice 损失是常用的评价指标和损失函数，在医学图像处理等领域得到广泛应用。"
   ]
  },
  {
   "cell_type": "markdown",
   "metadata": {},
   "source": [
    "计算交集时，我们需要将真实标签（y_true）和预测标签（y_pred）展平（flatten）成一维向量，这样可以方便进行相应元素的逐个相乘操作，得到各个位置上的交集值。在深度学习中，通常使用这种计算方法来计算交集，以便进一步计算 IoU（Intersection over Union）等指标。\n",
    "\n",
    "细化一下这个过程：\n",
    "\n",
    "1. `y_true_f = K.flatten(y_true)` 和 `y_pred_f = K.flatten(y_pred)`：将真实标签和预测标签展平成一维向量，方便进行逐元素操作。\n",
    "\n",
    "2. `intersection = K.sum(y_true_f * y_pred_f)`：计算交集，这里通过将展平后的真实标签和预测标签进行逐元素相乘，然后将相乘后的结果相加，即得到了交集的值。相乘的效果类似于在二值化的标签中，1 表示有目标，0 表示背景，两者相乘后会得到交集。"
   ]
  },
  {
   "cell_type": "code",
   "execution_count": 4,
   "metadata": {},
   "outputs": [],
   "source": [
    "import tensorflow.keras.backend as K\n",
    "\n",
    "\n",
    "def dsc(y_true, y_pred):\n",
    "    smooth = 1\n",
    "    y_true_f = K.flatten(y_true)\n",
    "    y_pred_f = K.flatten(y_pred)\n",
    "    intersection = K.sum(y_true_f * y_pred_f)\n",
    "    score = (2. * intersection + smooth ) / (K.sum(y_true_f)+ K.sum(y_pred_f)+smooth)\n",
    "    return score\n",
    "\n",
    "def dice_loss(y_true, y_pred):\n",
    "    loss = 1 -dsc(y_true, y_pred)\n",
    "    return loss\n",
    "\n",
    "\n"
   ]
  },
  {
   "cell_type": "markdown",
   "metadata": {},
   "source": [
    "#### 2.评估指标（Metrics）"
   ]
  },
  {
   "cell_type": "markdown",
   "metadata": {},
   "source": [
    "这段代码是用于定义评估指标(metrics)的列表。在这里，使用了一些来自 `segmentation_models` 库的评估指标，具体包括 Precision（精确率）、Recall（召回率）、F-Score 和 IOU Score。\n",
    "\n",
    "让我们逐个解释每个评估指标的作用和参数含义：\n",
    "\n",
    "1. **Precision（精确率）**：\n",
    "   - `sm.metrics.Precision(threshold=0.5)` 表示计算预测结果的精确率。\n",
    "   - `threshold` 是阈值，用于将模型输出的概率值转换为二值化的预测结果。在这里，当模型输出的概率值大于 0.5 时被视为正类，小于等于 0.5 则被视为负类。\n",
    "\n",
    "2. **Recall（召回率）**：\n",
    "   - `sm.metrics.Recall(threshold=0.5)` 表示计算预测结果的召回率。\n",
    "   - 同样地，`threshold` 是用于二值化预测结果的阈值。\n",
    "\n",
    "3. **F-Score**：\n",
    "   - `sm.metrics.FScore(threshold=0.5, beta=1)` 表示计算 F-Score，即综合考虑精确率和召回率的评价指标。\n",
    "   - `threshold` 仍然是用于二值化预测结果的阈值。\n",
    "   - `beta` 是 F-Score 中的一个参数，用于调整对精确率和召回率的重视程度。当 `beta=1` 时，表示精确率和召回率同等重要。\n",
    "\n",
    "4. **IOU Score**（Intersection over Union，即交并比）：\n",
    "   - `sm.metrics.IOUScore(threshold=0.5)` 表示计算预测结果的交并比。\n",
    "   - `threshold` 仍然是用于二值化预测结果的阈值。\n",
    "   - IOU 的计算原理很简单，通过比较预测框（或分割结果）与真实框的重叠程度来评估算法的性能。IOU 的取值范围在 0 到 1 之间，值越接近 1 表示算法预测的结果与真实情况越吻合，值越接近 0 则表示预测的结果与真实情况差异较大。\n",
    "\n",
    "\n",
    "这些评估指标用于衡量模型在图像分割任务中的性能表现，可以帮助评估模型的准确性、全面性和泛化能力。在训练过程中，这些评估指标将被用来监控模型的性能，并且可以作为训练过程中的损失函数的补充，帮助优化模型参数以达到更好的分割效果。"
   ]
  },
  {
   "cell_type": "markdown",
   "metadata": {},
   "source": [
    "<img src=\"../data/image/Accuracy Assessment.png\" width=\"1000\" height=\"600\">"
   ]
  },
  {
   "cell_type": "code",
   "execution_count": 5,
   "metadata": {},
   "outputs": [],
   "source": [
    "metrics = [sm.metrics.Precision(threshold=0.5),\n",
    "           sm.metrics.Recall(threshold=0.5),\n",
    "           sm.metrics.FScore(threshold=0.5,beta=1),\n",
    "           sm.metrics.IOUScore(threshold=0.5)]"
   ]
  },
  {
   "cell_type": "markdown",
   "metadata": {},
   "source": [
    "### 加载我们的数据"
   ]
  },
  {
   "cell_type": "code",
   "execution_count": 6,
   "metadata": {},
   "outputs": [],
   "source": [
    "#加载数据\n",
    "X_train  = np.load(f'../data/SAR_dataset/trainX.npy')\n",
    "Y_train = np.load(f'../data/SAR_dataset/trainY.npy')\n",
    "X_test = np.load(f'../data/SAR_dataset/testX.npy')\n",
    "Y_test = np.load(f'../data/SAR_dataset/testY.npy')"
   ]
  },
  {
   "cell_type": "code",
   "execution_count": 7,
   "metadata": {},
   "outputs": [
    {
     "data": {
      "text/plain": [
       "((752, 64, 64, 4), (752, 64, 64, 1), (189, 64, 64, 4), (189, 64, 64, 1))"
      ]
     },
     "execution_count": 7,
     "metadata": {},
     "output_type": "execute_result"
    }
   ],
   "source": [
    "#查看一下数据的长度\n",
    "X_train.shape,Y_train.shape, X_test.shape, Y_test.shape"
   ]
  },
  {
   "cell_type": "code",
   "execution_count": 8,
   "metadata": {},
   "outputs": [
    {
     "data": {
      "text/plain": [
       "<matplotlib.image.AxesImage at 0x1c3154755e0>"
      ]
     },
     "execution_count": 8,
     "metadata": {},
     "output_type": "execute_result"
    },
    {
     "data": {
      "image/png": "[encoded data removed]",
      "text/plain": [
       "<Figure size 720x720 with 2 Axes>"
      ]
     },
     "metadata": {
      "needs_background": "light"
     },
     "output_type": "display_data"
    }
   ],
   "source": [
    "#可视化一下我们的数据\n",
    "i = 10\n",
    "\n",
    "f,axarr = plt.subplots(1,2,figsize=(10,10))\n",
    "axarr[0].imshow(X_test[i][:,:,2])\n",
    "axarr[1].imshow(np.squeeze(Y_test[i]))\n"
   ]
  },
  {
   "cell_type": "markdown",
   "metadata": {},
   "source": [
    "## 构建Attention U-net"
   ]
  },
  {
   "cell_type": "markdown",
   "metadata": {},
   "source": [
    "<img src=\"../data/image/attention_u-net.png\" width=\"1000\" height=\"700\">"
   ]
  },
  {
   "cell_type": "markdown",
   "metadata": {},
   "source": [
    "在Attention U-Net中，关键的是将注意力门控（attention gates）集成到网络中，提高网络对图像中关键特征的敏感性。这通常涉及以下两个核心组件：\n",
    "\n",
    "1. **注意力门控信号 (Attention Gating Signal)**：这是控制注意力的部分。它负责生成门控信号，这些信号会用于后续的注意力门控模块，以指导模型关注到图像的关键区域。\n",
    "\n",
    "2. **注意力门控块 (Attention Gating Block)**：这个模块接收门控信号，并应用于编码器（或其它网络部分）提供的特征图。这个块会基于门控信号来加权特征图的每个元素，强化或减弱它们，这样网络在融合特征或在后续层进行处理时会更专注于关键区域。\n",
    "\n",
    "在标准的U-Net中集成注意力门控机制，一般涉及以下步骤：\n",
    "\n",
    "- **在编码器与解码器间的跳跃连接中加入注意力门控块**：在每个跳跃连接中，将编码器的特征图送入注意力门控块，然后将产生的加权特征图与解码器路径上的特征图融合。\n",
    "\n",
    "- **设计门控机制**：定义一个网络结构来计算注意力系数。这通常涉及到特定的卷积操作，激活函数，以及后续的乘法操作来对特征图进行加权。\n",
    "\n",
    "注意力机制的好处是它让模型能够自动学习到在图像分割过程中哪些区域比其他部分更为重要。通过这种方式，Attention U-Net比传统的U-Net在许多情况下能够获得更好的性能，尤其是在图像中有很多干扰信号的情况下。注意力机制助力于减少模型对不重要区域的关注，增强对那些对预测任务至关重要的区域的关注。\n"
   ]
  },
  {
   "cell_type": "markdown",
   "metadata": {},
   "source": [
    "注意力门控信号 (Attention Gating Signal):\n",
    "这一部分是整个注意力机制的关键。我们将会写一个`UnetGatingSignal` 函数负责生成用于控制注意力的门控信号。这些门控信号将作用于来自编码器的特征图，并指导在解码器过程中如何融合特征。\n",
    "\n",
    "注意力门控块 (Attention Gating Block):\n",
    "我们将会定义一个`AttnGatingBlock` 来实现注意力调制过程，它接收来自与之相对应编码器层的特征图（这些特征图已经经过相应的预处理以调整通道数），并结合门控信号来决定应该放大还是抑制特定的特征。"
   ]
  },
  {
   "cell_type": "markdown",
   "metadata": {},
   "source": [
    "如果你在实现一个注意力机制，首先需要将一个全局特征（比如某种注意力得分）应用到每个通道上，则可以通一个函数来扩展这个全局特征，使其与具有多通道的特征图的维度匹配。"
   ]
  },
  {
   "cell_type": "markdown",
   "metadata": {},
   "source": [
    "- Tips：尝试使用lambda函数，使用K.repeat_elements()"
   ]
  },
  {
   "cell_type": "code",
   "execution_count": 9,
   "metadata": {},
   "outputs": [],
   "source": [
    "# 定义一个函数在 Keras 模型中重复（或\"扩张\"）给定张量的元素特定次数\n",
    "def expend_as(tensor, rep,name):\n",
    "    my_repeat= Lambda(lambda x,repnum:K.repeat_elements(x,repnum,axis=3),\n",
    "                      arguments={'repnum':rep},\n",
    "                      name='psi_up'+name)(tensor)\n",
    "    return my_repeat"
   ]
  },
  {
   "cell_type": "markdown",
   "metadata": {},
   "source": [
    "**实现注意力门控块**，它被用在上采样（解码器）路径上进行特征融合"
   ]
  },
  {
   "cell_type": "code",
   "execution_count": 10,
   "metadata": {},
   "outputs": [],
   "source": [
    "def AttnGatingBlock(x, g, inter_shape, name):\n",
    "    ''' AttnGatingBlock 函数的定义：\n",
    "        x: 大尺寸空间特征输入 (在U-Net中通常来自编码器路径的某一层)。\n",
    "        g: 小尺寸空间特征输入 (一般是上采样路径中当前层的输出)。\n",
    "        inter_shape: 一个整数，表示过渡特征的通道数。\n",
    "        name: 此注意力块的名称前缀，用于为内部层命名。'''\n",
    "    ##1.输入特征：\n",
    "    #获取了 x 和 g 的形状\n",
    "    shape_x = K.int_shape(x)  # 128*128*32\n",
    "    shape_g = K.int_shape(g)  # 32*32*128\n",
    "    \n",
    "    ##2.生成注意力系数\n",
    "    #目标是调整`g`以匹配`x`的空间尺寸，并通过论施行注意力机制，从而加强模型对有用特征的关注度。\n",
    "    \n",
    "    #通过一个步长为 2 的 2x2 卷积 (称为 theta_x)，将 x 缩小一半，使其空间尺寸与 g 相匹配。\n",
    "    theta_x = Conv2D(inter_shape, (2, 2), strides=(2, 2), padding='same', name='xl'+name)(x) #64*64*64\n",
    "    shape_theta_x = K.int_shape(theta_x)# theta_x 的形状信息\n",
    "    \n",
    "    #通过一个 1x1 卷积，改变 g 的特征通道数，使其与 theta_x 的通道数匹配（无空间尺寸改变）。\n",
    "    phi_g = Conv2D(inter_shape, (1, 1), padding='same')(g)\n",
    "    #这里对 g 进行上采样以匹配 x 的空间维度。具体通过转置卷积（反卷积）完成，将 g 的尺寸放大至与 theta_x 相等。\n",
    "    #然后通过转置卷积层`Conv2DTranspose`，将`g`上采样至和`x`经过调整后相同的空间尺寸`64x64x64`。\n",
    "    upsample_g = Conv2DTranspose(inter_shape, (3, 3),strides=(shape_theta_x[1] // shape_g[1], shape_theta_x[2] // shape_g[2]),padding='same', name='g_up'+name)(phi_g)\n",
    "    \n",
    "    #实现注意力系数\n",
    "    #下面我们就要融合2者的信息\n",
    "    concat_xg = add([upsample_g, theta_x])\n",
    "    \n",
    "    #经过相加的特征图 concat_xg 应用一个ReLU激活函数以加入非线性，得到 act_xg。\n",
    "    act_xg = Activation('relu')(concat_xg)\n",
    "    #然后通过一个 1x1 卷积将特征通道降为 1 个，这个过程相当于为每个位置学习一个标量权重。\n",
    "    #应用一个`1x1`卷积并通过Sigmoid激活，产生单通道的注意力系数图`64x64x1`。\n",
    "    psi = Conv2D(1, (1, 1), padding='same', name='psi'+name)(act_xg)\n",
    "    #应用 Sigmoid 函数将上述标量权重转变成注意力系数，这些系数在范围 [0, 1] 内，并且这将决定每个位置有多少信息会被保留下来。\n",
    "    sigmoid_xg = Activation('sigmoid')(psi)\n",
    "    #上述注意力系数通过上采样至 x 相同的空间维度，即将每个注意力系数放大到和 x 相同的空间尺寸。\n",
    "    #将注意力系数图上采样至初始`x`的空间维度`128x128x1`\n",
    "    shape_sigmoid = K.int_shape(sigmoid_xg)\n",
    "    upsample_psi = UpSampling2D(size=(shape_x[1] // shape_sigmoid[1], shape_x[2] // shape_sigmoid[2]))(sigmoid_xg) \n",
    "    \n",
    "    #通过 expend_as 函数，将上采样得到的单个注意力系数在通道维度复制多次，以匹配 x 的通道数。\n",
    "    upsample_psi = expend_as(upsample_psi, shape_x[3],name)\n",
    "    \n",
    "    \n",
    "    \n",
    "    ##3.特征重加权：\n",
    "    #将放大后的注意力系数 (upsample_psi) 与原始的大尺寸特征图 x 进行逐元素相乘，从而实现了注意力机制。\n",
    "    y = multiply([upsample_psi, x], name='q_attn'+name)\n",
    "    \n",
    "    #4.输出加权特征图\n",
    "    #应用一个 1x1 卷积，保持空间维度不变，将通过注意力加权后的特征图的通道数恢复为原来的 x 通道数。\n",
    "    result = Conv2D(shape_x[3], (1, 1), padding='same',name='q_attn_conv'+name)(y)\n",
    "    \n",
    "    #批量归一化，并返回特征图\n",
    "    result_bn = BatchNormalization(name='q_attn_bn'+name)(result)\n",
    "    \n",
    "    return result_bn"
   ]
  },
  {
   "cell_type": "markdown",
   "metadata": {},
   "source": [
    "具体来说，这个UnetGatingSignal通过执行一系列操作（1x1卷积，可选的批量归一化，以及ReLU激活函数），生成所谓的门控信号（gating signal），这个信号在注意力块中用来帮助模型聚焦于输入图像的重要部分。"
   ]
  },
  {
   "cell_type": "code",
   "execution_count": 11,
   "metadata": {},
   "outputs": [],
   "source": [
    "def UnetGatingSignal(input, is_batchnorm, name):\n",
    "    shape = K.int_shape(input)\n",
    "    x = Conv2D(shape[3]*1,(1,1),strides=(1,1),padding=\"same\",kernel_initializer=kinit,name=name+'_conv')(input)\n",
    "    if is_batchnorm:\n",
    "        x = BatchNormalization(name=name+\"_bn\")(x)\n",
    "    x = Activation('relu', name = name + '_act')(x)\n",
    "    return x"
   ]
  },
  {
   "cell_type": "markdown",
   "metadata": {},
   "source": [
    "下面我们U-Net架构中通常使用的标准卷积模块"
   ]
  },
  {
   "cell_type": "code",
   "execution_count": 12,
   "metadata": {},
   "outputs": [],
   "source": [
    "# 这个函数定义了一个标准的卷积块，它包括两个卷积层，是U-Net架构中重复使用的构建块之一。\n",
    "# 参数:\n",
    "# input - 这是输入的特征图，即从上一个层或数据输入流中得到的特征图。\n",
    "# outdim - 输出特征的维度，也即是卷积层将会产生的特征图的深度（卷积核的数量）。\n",
    "# is_batchnorm - 一个布尔值，指明是否在每个卷积层之后添加批量归一化层。\n",
    "# name - 一个字符串，用于为网络中的层命名，便于区分不同的卷积层和批量归一化层。\n",
    "def UnetConv2D(input, outdim, is_batchnorm, name):\n",
    "\tx = Conv2D(outdim, (3, 3), strides=(1, 1), kernel_initializer=kinit, padding=\"same\", name=name+'_1')(input)\n",
    "\tif is_batchnorm:\n",
    "\t\tx =BatchNormalization(name=name + '_1_bn')(x)\n",
    "\tx = Activation('relu',name=name + '_1_act')(x)\n",
    " \n",
    "\tx = Conv2D(outdim, (3, 3), strides=(1, 1), kernel_initializer=kinit, padding=\"same\", name=name+'_2')(x)\n",
    "\tif is_batchnorm:\n",
    "\t\tx = BatchNormalization(name=name + '_2_bn')(x)\n",
    "\tx = Activation('relu', name=name + '_2_act')(x)\n",
    "\treturn x"
   ]
  },
  {
   "cell_type": "markdown",
   "metadata": {},
   "source": [
    "### 定义Attention u-net函数"
   ]
  },
  {
   "cell_type": "markdown",
   "metadata": {},
   "source": [
    "<img src=\"../data/image/attention_u-net.png\" width=\"1000\" height=\"700\">"
   ]
  },
  {
   "cell_type": "code",
   "execution_count": 13,
   "metadata": {},
   "outputs": [],
   "source": [
    "size = 64\n",
    "\n",
    "img_bands = X_train.shape[3]\n",
    "\n",
    "# 定义具有注意力机制的U-Net模型的函数\n",
    "def attn_unet(lr,filtersFirstLayer, pretrained_weights = None,input_size = (size,size,img_bands)):  \n",
    "    \"\"\"\n",
    "    构建一个具有注意力机制的U-Net模型。\n",
    "\n",
    "    参数:\n",
    "    - lr: 学习率。\n",
    "    - filtersFirstLayer: 第一层卷积层的过滤器（卷积核）数量。\n",
    "    - pretrained_weights: (如果有的话)预先训练好的权重。\n",
    "    - input_size: 输入图像的尺寸。\n",
    "\n",
    "    返回:\n",
    "    - 构建并编译好的模型对象。\n",
    "    \"\"\"\n",
    "    \n",
    "    # 输入层 - 定义模型输入的形状\n",
    "    inputs = Input(shape=input_size)\n",
    "    \n",
    "    # ------ 编码器阶段 ------\n",
    "    # 第一层卷积 + 批归一化 + 激活 + 池化\n",
    "    conv1 = UnetConv2D(inputs, filtersFirstLayer, is_batchnorm=True, name='conv1')\n",
    "    pool1 = MaxPooling2D(pool_size=(2, 2))(conv1)\n",
    "    \n",
    "    # 第二层卷积 + 批归一化 + 激活 + 池化\n",
    "    conv2 = UnetConv2D(pool1, filtersFirstLayer, is_batchnorm=True, name='conv2')\n",
    "    pool2 = MaxPooling2D(pool_size=(2, 2))(conv2)\n",
    "\n",
    "    # 第三层卷积，卷积核数量翻倍 + 批归一化 + 激活 + 池化\n",
    "    conv3 = UnetConv2D(pool2, filtersFirstLayer*2, is_batchnorm=True, name='conv3')\n",
    "    #conv3 = Dropout(0.2,name='drop_conv3')(conv3)\n",
    "    pool3 = MaxPooling2D(pool_size=(2, 2))(conv3)\n",
    "    \n",
    "    # 第四层卷积，保持相同的卷积核数量 + 批归一化 + 激活 + 池化\n",
    "    conv4 = UnetConv2D(pool3, filtersFirstLayer*2, is_batchnorm=True, name='conv4')\n",
    "    #conv4 = Dropout(0.2, name='drop_conv4')(conv4)\n",
    "    pool4 = MaxPooling2D(pool_size=(2, 2))(conv4)\n",
    "    \n",
    "    #----- 中心点阶段 ------\n",
    "    center = UnetConv2D(pool4, filtersFirstLayer*4, is_batchnorm=True, name='center')\n",
    "    \n",
    "    # ------ 注意力机制 + 解码器阶段 ------\n",
    "    # 注意力机制 1：对第四层卷积的特征图进行处理\n",
    "    g1 = UnetGatingSignal(center, is_batchnorm=True, name='g1')\n",
    "    attn1 = AttnGatingBlock(conv4, g1, filtersFirstLayer*4, '_1')\n",
    "    # 解码器第一步：将瓶颈层的特征图上采样并与经过注意力机制处理的特征图拼接\n",
    "    up1 = concatenate([Conv2DTranspose(filtersFirstLayer, (3,3), strides=(2,2), padding='same', activation='relu', kernel_initializer=kinit)(center), attn1], name='up1')\n",
    "    \n",
    "\n",
    "    # 注意力机制 2：对第三层卷积的特征图进行处理\n",
    "    g2 = UnetGatingSignal(up1, is_batchnorm=True, name='g2')\n",
    "    attn2 = AttnGatingBlock(conv3, g2, filtersFirstLayer*2, '_2')\n",
    "    # 解码器第二步：将上一个上采样的输出上采样并与经过注意力机制处理的特征图拼接\n",
    "    up2 = concatenate([Conv2DTranspose(filtersFirstLayer*2, (3,3), strides=(2,2), padding='same', activation='relu', kernel_initializer=kinit)(up1), attn2], name='up2')\n",
    "\n",
    "    # 注意力机制 3：对第二层卷积的特征图进行处理\n",
    "    g3 = UnetGatingSignal(up1, is_batchnorm=True, name='g3')\n",
    "    attn3 = AttnGatingBlock(conv2, g3, filtersFirstLayer, '_3')\n",
    "    # 解码器第三步：将上一个上采样的输出上采样并与经过注意力机制处理的特征图拼接\n",
    "    up3 = concatenate([Conv2DTranspose(filtersFirstLayer, (3,3), strides=(2,2), padding='same', activation='relu', kernel_initializer=kinit)(up2), attn3], name='up3')\n",
    "\n",
    "    # 解码器最终步骤：上采样拼接最初层级的特征图\n",
    "    up4 = concatenate([Conv2DTranspose(filtersFirstLayer, (3,3), strides=(2,2), padding='same', activation='relu', kernel_initializer=kinit)(up3), conv1], name='up4')\n",
    "    \n",
    "    # 输出层 - 使用 1x1 的卷积层来生成最终的分割图，激活函数采用 sigmoid 以产生概率\n",
    "    conv10 = Conv2D(1, (1, 1), activation='sigmoid',  kernel_initializer=kinit, name='final')(up4)\n",
    "    # 使用输入和输出创建 Keras 模型\n",
    "    model = Model(inputs, conv10)\n",
    "    \n",
    "    # 编译模型 - 定义优化器，损失函数，和评价指标\n",
    "    model.compile(optimizer = Adam(lr = lr), loss = dice_loss, metrics = metrics)\n",
    "    # model.summary()\n",
    "    \n",
    "    # 如果给定预训练权重，则将它们加载到模型中\n",
    "    if(pretrained_weights):\n",
    "        model.load_weights(pretrained_weights)\n",
    "\n",
    "    return model"
   ]
  },
  {
   "cell_type": "markdown",
   "metadata": {},
   "source": [
    "# 训练模型和执行超参数搜索"
   ]
  },
  {
   "cell_type": "code",
   "execution_count": 14,
   "metadata": {},
   "outputs": [],
   "source": [
    "# 定义模型训练的基本参数\n",
    "\n",
    "# 设置图像块的尺寸，每个图像块为64x64像素\n",
    "size = 64\n",
    "\n",
    "# 输入图像的波段数量(即图像的通道数)\n",
    "img_bands = X_train.shape[3]\n",
    "# 设置图像块的采样方式，这里表示相邻图像块之间没有重叠\n",
    "sampling = \"no_overlap\"\n",
    "# 定义用于模型第一个卷积层的滤波器数量列表，这里只测试4个滤波器\n",
    "filters = [4]\n",
    "#filters = [4, 8, 16, 32]\n",
    "\n",
    "# 定义用于测试的学习率列表\n",
    "lr = [10e-4]\n",
    "#lr = [10e-3, 5e-4, 10e-4, 5e-5, 10e-5]\n",
    "# 定义批处理大小列表\n",
    "batch_size = [4]\n",
    "#batch_size = [4, 8, 16, 32]\n",
    "#  设置训练的总轮数为200\n",
    "epochs = 200\n",
    "\n",
    "# # 创建一个字典，用于存储训练和验证结果\n",
    "dic = {}\n",
    "\n",
    "# 超参记录\n",
    "dic[\"model\"] = []\n",
    "dic[\"batch_size\"] = []\n",
    "dic[\"learning_rate\"] = []\n",
    "dic[\"filters\"] = []\n",
    "\n",
    "# 模型性能指标\n",
    "dic[\"precision_area\"] = []\n",
    "dic[\"recall_area\"] = []\n",
    "dic[\"f1_score_area\"] = []\n",
    "dic[\"iou_score_area\"] = []"
   ]
  },
  {
   "cell_type": "code",
   "execution_count": 15,
   "metadata": {},
   "outputs": [
    {
     "name": "stderr",
     "output_type": "stream",
     "text": [
      "c:\\Users\\20228\\Anaconda3\\lib\\site-packages\\keras\\optimizers\\optimizer_v2\\adam.py:114: UserWarning: The `lr` argument is deprecated, use `learning_rate` instead.\n",
      "  super().__init__(name, **kwargs)\n"
     ]
    },
    {
     "name": "stdout",
     "output_type": "stream",
     "text": [
      "4 0.01 4\n",
      "Epoch 1/200\n",
      "151/151 [==============================] - ETA: 0s - loss: 0.6186 - precision: 0.3345 - recall: 0.5859 - f1-score: 0.3896 - iou_score: 0.2498\n",
      "Epoch 1: val_loss improved from inf to 0.99103, saving model to ../data/SAR_dataset/weights\\unet_no_overlap_size_64_filters_4_batch_size_4_lr_0.01.hdf5\n",
      "151/151 [==============================] - 18s 37ms/step - loss: 0.6186 - precision: 0.3345 - recall: 0.5859 - f1-score: 0.3896 - iou_score: 0.2498 - val_loss: 0.9910 - val_precision: 0.8190 - val_recall: 0.0043 - val_f1-score: 0.0082 - val_iou_score: 0.0042\n",
      "Epoch 2/200\n",
      "150/151 [============================>.] - ETA: 0s - loss: 0.5540 - precision: 0.4087 - recall: 0.5717 - f1-score: 0.4462 - iou_score: 0.2955\n",
      "Epoch 2: val_loss improved from 0.99103 to 0.67410, saving model to ../data/SAR_dataset/weights\\unet_no_overlap_size_64_filters_4_batch_size_4_lr_0.01.hdf5\n",
      "151/151 [==============================] - 4s 29ms/step - loss: 0.5542 - precision: 0.4074 - recall: 0.5741 - f1-score: 0.4456 - iou_score: 0.2950 - val_loss: 0.6741 - val_precision: 0.4481 - val_recall: 0.2968 - val_f1-score: 0.3255 - val_iou_score: 0.2016\n",
      "Epoch 3/200\n",
      "151/151 [==============================] - ETA: 0s - loss: 0.5529 - precision: 0.4197 - recall: 0.5657 - f1-score: 0.4485 - iou_score: 0.2993\n",
      "Epoch 3: val_loss improved from 0.67410 to 0.63441, saving model to ../data/SAR_dataset/weights\\unet_no_overlap_size_64_filters_4_batch_size_4_lr_0.01.hdf5\n",
      "151/151 [==============================] - 4s 26ms/step - loss: 0.5529 - precision: 0.4197 - recall: 0.5657 - f1-score: 0.4485 - iou_score: 0.2993 - val_loss: 0.6344 - val_precision: 0.2379 - val_recall: 0.8582 - val_f1-score: 0.3648 - val_iou_score: 0.2278\n",
      "Epoch 4/200\n",
      "149/151 [============================>.] - ETA: 0s - loss: 0.5193 - precision: 0.4431 - recall: 0.5909 - f1-score: 0.4809 - iou_score: 0.3259\n",
      "Epoch 4: val_loss improved from 0.63441 to 0.51858, saving model to ../data/SAR_dataset/weights\\unet_no_overlap_size_64_filters_4_batch_size_4_lr_0.01.hdf5\n",
      "151/151 [==============================] - 4s 27ms/step - loss: 0.5196 - precision: 0.4402 - recall: 0.5946 - f1-score: 0.4788 - iou_score: 0.3244 - val_loss: 0.5186 - val_precision: 0.5567 - val_recall: 0.4427 - val_f1-score: 0.4811 - val_iou_score: 0.3228\n",
      "Epoch 5/200\n",
      "151/151 [==============================] - ETA: 0s - loss: 0.5308 - precision: 0.4330 - recall: 0.5853 - f1-score: 0.4671 - iou_score: 0.3142\n",
      "Epoch 5: val_loss improved from 0.51858 to 0.50071, saving model to ../data/SAR_dataset/weights\\unet_no_overlap_size_64_filters_4_batch_size_4_lr_0.01.hdf5\n",
      "151/151 [==============================] - 4s 25ms/step - loss: 0.5308 - precision: 0.4330 - recall: 0.5853 - f1-score: 0.4671 - iou_score: 0.3142 - val_loss: 0.5007 - val_precision: 0.4132 - val_recall: 0.6611 - val_f1-score: 0.4988 - val_iou_score: 0.3372\n",
      "Epoch 6/200\n",
      "150/151 [============================>.] - ETA: 0s - loss: 0.5194 - precision: 0.4436 - recall: 0.6064 - f1-score: 0.4807 - iou_score: 0.3267\n",
      "Epoch 6: val_loss did not improve from 0.50071\n",
      "151/151 [==============================] - 4s 25ms/step - loss: 0.5197 - precision: 0.4471 - recall: 0.6037 - f1-score: 0.4796 - iou_score: 0.3258 - val_loss: 0.5926 - val_precision: 0.6003 - val_recall: 0.3352 - val_f1-score: 0.4072 - val_iou_score: 0.2644\n",
      "Epoch 7/200\n",
      "151/151 [==============================] - ETA: 0s - loss: 0.5023 - precision: 0.4651 - recall: 0.6065 - f1-score: 0.4970 - iou_score: 0.3395\n",
      "Epoch 7: val_loss did not improve from 0.50071\n",
      "151/151 [==============================] - 4s 24ms/step - loss: 0.5023 - precision: 0.4651 - recall: 0.6065 - f1-score: 0.4970 - iou_score: 0.3395 - val_loss: 0.5328 - val_precision: 0.5650 - val_recall: 0.4352 - val_f1-score: 0.4656 - val_iou_score: 0.3116\n",
      "Epoch 8/200\n",
      "151/151 [==============================] - ETA: 0s - loss: 0.5004 - precision: 0.4591 - recall: 0.6157 - f1-score: 0.4976 - iou_score: 0.3427\n",
      "Epoch 8: val_loss did not improve from 0.50071\n",
      "151/151 [==============================] - 4s 24ms/step - loss: 0.5004 - precision: 0.4591 - recall: 0.6157 - f1-score: 0.4976 - iou_score: 0.3427 - val_loss: 0.6727 - val_precision: 0.2029 - val_recall: 0.9273 - val_f1-score: 0.3269 - val_iou_score: 0.1995\n",
      "Epoch 9/200\n",
      "151/151 [==============================] - ETA: 0s - loss: 0.5061 - precision: 0.4582 - recall: 0.6147 - f1-score: 0.4921 - iou_score: 0.3375\n",
      "Epoch 9: val_loss did not improve from 0.50071\n",
      "151/151 [==============================] - 4s 24ms/step - loss: 0.5061 - precision: 0.4582 - recall: 0.6147 - f1-score: 0.4921 - iou_score: 0.3375 - val_loss: 0.5602 - val_precision: 0.3055 - val_recall: 0.8348 - val_f1-score: 0.4398 - val_iou_score: 0.2877\n",
      "Epoch 10/200\n",
      "150/151 [============================>.] - ETA: 0s - loss: 0.5034 - precision: 0.4657 - recall: 0.5999 - f1-score: 0.4966 - iou_score: 0.3390\n",
      "Epoch 10: val_loss did not improve from 0.50071\n",
      "151/151 [==============================] - 4s 25ms/step - loss: 0.5038 - precision: 0.4640 - recall: 0.5992 - f1-score: 0.4952 - iou_score: 0.3378 - val_loss: 0.5540 - val_precision: 0.3110 - val_recall: 0.8346 - val_f1-score: 0.4461 - val_iou_score: 0.2931\n",
      "Epoch 11/200\n",
      "149/151 [============================>.] - ETA: 0s - loss: 0.5088 - precision: 0.4611 - recall: 0.6122 - f1-score: 0.4912 - iou_score: 0.3367\n",
      "Epoch 11: val_loss did not improve from 0.50071\n",
      "151/151 [==============================] - 4s 24ms/step - loss: 0.5074 - precision: 0.4624 - recall: 0.6134 - f1-score: 0.4929 - iou_score: 0.3383 - val_loss: 0.5759 - val_precision: 0.2861 - val_recall: 0.8729 - val_f1-score: 0.4239 - val_iou_score: 0.2745\n",
      "Epoch 12/200\n",
      "150/151 [============================>.] - ETA: 0s - loss: 0.4962 - precision: 0.4587 - recall: 0.6431 - f1-score: 0.5038 - iou_score: 0.3475\n",
      "Epoch 12: val_loss did not improve from 0.50071\n",
      "151/151 [==============================] - 4s 24ms/step - loss: 0.4970 - precision: 0.4558 - recall: 0.6447 - f1-score: 0.5008 - iou_score: 0.3454 - val_loss: 0.5894 - val_precision: 0.2734 - val_recall: 0.8851 - val_f1-score: 0.4105 - val_iou_score: 0.2638\n",
      "Epoch 13/200\n",
      "150/151 [============================>.] - ETA: 0s - loss: 0.5057 - precision: 0.4661 - recall: 0.6120 - f1-score: 0.4942 - iou_score: 0.3394\n",
      "Epoch 13: val_loss did not improve from 0.50071\n",
      "151/151 [==============================] - 4s 24ms/step - loss: 0.5061 - precision: 0.4640 - recall: 0.6110 - f1-score: 0.4925 - iou_score: 0.3380 - val_loss: 0.5210 - val_precision: 0.5406 - val_recall: 0.4748 - val_f1-score: 0.4785 - val_iou_score: 0.3241\n",
      "Epoch 14/200\n",
      "151/151 [==============================] - ETA: 0s - loss: 0.4956 - precision: 0.4627 - recall: 0.6216 - f1-score: 0.5020 - iou_score: 0.3490\n",
      "Epoch 14: val_loss did not improve from 0.50071\n",
      "151/151 [==============================] - 4s 25ms/step - loss: 0.4956 - precision: 0.4627 - recall: 0.6216 - f1-score: 0.5020 - iou_score: 0.3490 - val_loss: 0.5724 - val_precision: 0.2893 - val_recall: 0.8671 - val_f1-score: 0.4274 - val_iou_score: 0.2770\n",
      "Epoch 15/200\n",
      "151/151 [==============================] - ETA: 0s - loss: 0.4762 - precision: 0.4855 - recall: 0.6258 - f1-score: 0.5233 - iou_score: 0.3631\n",
      "Epoch 15: val_loss improved from 0.50071 to 0.49002, saving model to ../data/SAR_dataset/weights\\unet_no_overlap_size_64_filters_4_batch_size_4_lr_0.01.hdf5\n",
      "151/151 [==============================] - 4s 27ms/step - loss: 0.4762 - precision: 0.4855 - recall: 0.6258 - f1-score: 0.5233 - iou_score: 0.3631 - val_loss: 0.4900 - val_precision: 0.4675 - val_recall: 0.6086 - val_f1-score: 0.5096 - val_iou_score: 0.3487\n",
      "Epoch 16/200\n",
      "150/151 [============================>.] - ETA: 0s - loss: 0.4851 - precision: 0.4812 - recall: 0.6181 - f1-score: 0.5148 - iou_score: 0.3543\n",
      "Epoch 16: val_loss did not improve from 0.49002\n",
      "151/151 [==============================] - 4s 26ms/step - loss: 0.4858 - precision: 0.4783 - recall: 0.6175 - f1-score: 0.5119 - iou_score: 0.3523 - val_loss: 0.5326 - val_precision: 0.3356 - val_recall: 0.8127 - val_f1-score: 0.4671 - val_iou_score: 0.3107\n",
      "Epoch 17/200\n",
      "151/151 [==============================] - ETA: 0s - loss: 0.4903 - precision: 0.4731 - recall: 0.6340 - f1-score: 0.5095 - iou_score: 0.3522\n",
      "Epoch 17: val_loss improved from 0.49002 to 0.46316, saving model to ../data/SAR_dataset/weights\\unet_no_overlap_size_64_filters_4_batch_size_4_lr_0.01.hdf5\n",
      "151/151 [==============================] - 3s 22ms/step - loss: 0.4903 - precision: 0.4731 - recall: 0.6340 - f1-score: 0.5095 - iou_score: 0.3522 - val_loss: 0.4632 - val_precision: 0.5526 - val_recall: 0.5397 - val_f1-score: 0.5371 - val_iou_score: 0.3729\n",
      "Epoch 18/200\n",
      "151/151 [==============================] - ETA: 0s - loss: 0.4794 - precision: 0.4873 - recall: 0.6229 - f1-score: 0.5189 - iou_score: 0.3599\n",
      "Epoch 18: val_loss did not improve from 0.46316\n",
      "151/151 [==============================] - 3s 20ms/step - loss: 0.4794 - precision: 0.4873 - recall: 0.6229 - f1-score: 0.5189 - iou_score: 0.3599 - val_loss: 0.4727 - val_precision: 0.4182 - val_recall: 0.7436 - val_f1-score: 0.5272 - val_iou_score: 0.3634\n",
      "Epoch 19/200\n",
      "149/151 [============================>.] - ETA: 0s - loss: 0.4742 - precision: 0.4825 - recall: 0.6384 - f1-score: 0.5258 - iou_score: 0.3668\n",
      "Epoch 19: val_loss did not improve from 0.46316\n",
      "151/151 [==============================] - 3s 20ms/step - loss: 0.4750 - precision: 0.4797 - recall: 0.6378 - f1-score: 0.5234 - iou_score: 0.3648 - val_loss: 0.4867 - val_precision: 0.5445 - val_recall: 0.5163 - val_f1-score: 0.5132 - val_iou_score: 0.3514\n",
      "Epoch 20/200\n",
      "149/151 [============================>.] - ETA: 0s - loss: 0.4907 - precision: 0.4760 - recall: 0.6307 - f1-score: 0.5092 - iou_score: 0.3523\n",
      "Epoch 20: val_loss improved from 0.46316 to 0.45958, saving model to ../data/SAR_dataset/weights\\unet_no_overlap_size_64_filters_4_batch_size_4_lr_0.01.hdf5\n",
      "151/151 [==============================] - 3s 20ms/step - loss: 0.4900 - precision: 0.4767 - recall: 0.6304 - f1-score: 0.5097 - iou_score: 0.3527 - val_loss: 0.4596 - val_precision: 0.5090 - val_recall: 0.6055 - val_f1-score: 0.5399 - val_iou_score: 0.3755\n",
      "Epoch 21/200\n",
      "150/151 [============================>.] - ETA: 0s - loss: 0.4784 - precision: 0.4893 - recall: 0.6217 - f1-score: 0.5216 - iou_score: 0.3616\n",
      "Epoch 21: val_loss improved from 0.45958 to 0.45543, saving model to ../data/SAR_dataset/weights\\unet_no_overlap_size_64_filters_4_batch_size_4_lr_0.01.hdf5\n",
      "151/151 [==============================] - 3s 21ms/step - loss: 0.4786 - precision: 0.4880 - recall: 0.6210 - f1-score: 0.5206 - iou_score: 0.3607 - val_loss: 0.4554 - val_precision: 0.4833 - val_recall: 0.6487 - val_f1-score: 0.5445 - val_iou_score: 0.3793\n",
      "Epoch 22/200\n",
      "150/151 [============================>.] - ETA: 0s - loss: 0.4800 - precision: 0.4859 - recall: 0.6234 - f1-score: 0.5199 - iou_score: 0.3634\n",
      "Epoch 22: val_loss did not improve from 0.45543\n",
      "151/151 [==============================] - 3s 20ms/step - loss: 0.4802 - precision: 0.4855 - recall: 0.6214 - f1-score: 0.5190 - iou_score: 0.3625 - val_loss: 0.4826 - val_precision: 0.5390 - val_recall: 0.5319 - val_f1-score: 0.5171 - val_iou_score: 0.3562\n",
      "Epoch 23/200\n",
      "150/151 [============================>.] - ETA: 0s - loss: 0.4718 - precision: 0.4908 - recall: 0.6309 - f1-score: 0.5282 - iou_score: 0.3692\n",
      "Epoch 23: val_loss did not improve from 0.45543\n",
      "151/151 [==============================] - 3s 19ms/step - loss: 0.4719 - precision: 0.4903 - recall: 0.6298 - f1-score: 0.5276 - iou_score: 0.3687 - val_loss: 0.4792 - val_precision: 0.5229 - val_recall: 0.5466 - val_f1-score: 0.5201 - val_iou_score: 0.3584\n",
      "Epoch 24/200\n",
      "150/151 [============================>.] - ETA: 0s - loss: 0.5059 - precision: 0.4666 - recall: 0.6101 - f1-score: 0.4941 - iou_score: 0.3390\n",
      "Epoch 24: val_loss did not improve from 0.45543\n",
      "151/151 [==============================] - 3s 20ms/step - loss: 0.5060 - precision: 0.4657 - recall: 0.6104 - f1-score: 0.4938 - iou_score: 0.3387 - val_loss: 0.5682 - val_precision: 0.2937 - val_recall: 0.8640 - val_f1-score: 0.4312 - val_iou_score: 0.2809\n",
      "Epoch 25/200\n",
      "151/151 [==============================] - ETA: 0s - loss: 0.4821 - precision: 0.4794 - recall: 0.6347 - f1-score: 0.5172 - iou_score: 0.3594\n",
      "Epoch 25: val_loss did not improve from 0.45543\n",
      "151/151 [==============================] - 3s 20ms/step - loss: 0.4821 - precision: 0.4794 - recall: 0.6347 - f1-score: 0.5172 - iou_score: 0.3594 - val_loss: 0.4686 - val_precision: 0.4677 - val_recall: 0.6491 - val_f1-score: 0.5313 - val_iou_score: 0.3677\n",
      "Epoch 26/200\n",
      "149/151 [============================>.] - ETA: 0s - loss: 0.4704 - precision: 0.4949 - recall: 0.6339 - f1-score: 0.5297 - iou_score: 0.3701\n",
      "Epoch 26: val_loss did not improve from 0.45543\n",
      "151/151 [==============================] - 3s 22ms/step - loss: 0.4704 - precision: 0.4942 - recall: 0.6334 - f1-score: 0.5291 - iou_score: 0.3695 - val_loss: 0.4633 - val_precision: 0.4346 - val_recall: 0.7363 - val_f1-score: 0.5362 - val_iou_score: 0.3718\n",
      "Epoch 27/200\n",
      "150/151 [============================>.] - ETA: 0s - loss: 0.4606 - precision: 0.5080 - recall: 0.6274 - f1-score: 0.5393 - iou_score: 0.3765\n",
      "Epoch 27: val_loss did not improve from 0.45543\n",
      "151/151 [==============================] - 3s 22ms/step - loss: 0.4607 - precision: 0.5076 - recall: 0.6271 - f1-score: 0.5391 - iou_score: 0.3763 - val_loss: 0.4994 - val_precision: 0.4492 - val_recall: 0.6092 - val_f1-score: 0.5007 - val_iou_score: 0.3398\n",
      "Epoch 28/200\n",
      "151/151 [==============================] - ETA: 0s - loss: 0.4614 - precision: 0.4937 - recall: 0.6471 - f1-score: 0.5381 - iou_score: 0.3769\n",
      "Epoch 28: val_loss did not improve from 0.45543\n",
      "151/151 [==============================] - 3s 21ms/step - loss: 0.4614 - precision: 0.4937 - recall: 0.6471 - f1-score: 0.5381 - iou_score: 0.3769 - val_loss: 0.4556 - val_precision: 0.5154 - val_recall: 0.6057 - val_f1-score: 0.5445 - val_iou_score: 0.3806\n",
      "Epoch 29/200\n",
      "151/151 [==============================] - ETA: 0s - loss: 0.4695 - precision: 0.4972 - recall: 0.6314 - f1-score: 0.5303 - iou_score: 0.3698\n",
      "Epoch 29: val_loss did not improve from 0.45543\n",
      "151/151 [==============================] - 3s 20ms/step - loss: 0.4695 - precision: 0.4972 - recall: 0.6314 - f1-score: 0.5303 - iou_score: 0.3698 - val_loss: 0.4600 - val_precision: 0.5248 - val_recall: 0.5755 - val_f1-score: 0.5396 - val_iou_score: 0.3754\n",
      "Epoch 30/200\n",
      "150/151 [============================>.] - ETA: 0s - loss: 0.4876 - precision: 0.4828 - recall: 0.6333 - f1-score: 0.5123 - iou_score: 0.3548\n",
      "Epoch 30: val_loss did not improve from 0.45543\n",
      "151/151 [==============================] - 3s 21ms/step - loss: 0.4876 - precision: 0.4837 - recall: 0.6319 - f1-score: 0.5123 - iou_score: 0.3547 - val_loss: 0.4891 - val_precision: 0.3830 - val_recall: 0.7954 - val_f1-score: 0.5107 - val_iou_score: 0.3490\n",
      "Epoch 31/200\n",
      "148/151 [============================>.] - ETA: 0s - loss: 0.4764 - precision: 0.4952 - recall: 0.6229 - f1-score: 0.5236 - iou_score: 0.3648\n",
      "Epoch 31: val_loss did not improve from 0.45543\n",
      "151/151 [==============================] - 3s 20ms/step - loss: 0.4754 - precision: 0.4952 - recall: 0.6233 - f1-score: 0.5241 - iou_score: 0.3652 - val_loss: 0.4668 - val_precision: 0.5493 - val_recall: 0.5376 - val_f1-score: 0.5329 - val_iou_score: 0.3694\n",
      "Epoch 32/200\n",
      "150/151 [============================>.] - ETA: 0s - loss: 0.4730 - precision: 0.4837 - recall: 0.6531 - f1-score: 0.5269 - iou_score: 0.3693\n",
      "Epoch 32: val_loss did not improve from 0.45543\n",
      "151/151 [==============================] - 3s 19ms/step - loss: 0.4739 - precision: 0.4805 - recall: 0.6488 - f1-score: 0.5234 - iou_score: 0.3669 - val_loss: 0.4804 - val_precision: 0.4371 - val_recall: 0.6869 - val_f1-score: 0.5197 - val_iou_score: 0.3566\n",
      "Epoch 33/200\n",
      "151/151 [==============================] - ETA: 0s - loss: 0.4742 - precision: 0.4899 - recall: 0.6286 - f1-score: 0.5232 - iou_score: 0.3667\n",
      "Epoch 33: val_loss did not improve from 0.45543\n",
      "151/151 [==============================] - 3s 20ms/step - loss: 0.4742 - precision: 0.4899 - recall: 0.6286 - f1-score: 0.5232 - iou_score: 0.3667 - val_loss: 0.4850 - val_precision: 0.4151 - val_recall: 0.7071 - val_f1-score: 0.5148 - val_iou_score: 0.3518\n",
      "Epoch 34/200\n",
      "150/151 [============================>.] - ETA: 0s - loss: 0.4848 - precision: 0.4754 - recall: 0.6332 - f1-score: 0.5152 - iou_score: 0.3583\n",
      "Epoch 34: val_loss did not improve from 0.45543\n",
      "151/151 [==============================] - 3s 19ms/step - loss: 0.4854 - precision: 0.4728 - recall: 0.6347 - f1-score: 0.5128 - iou_score: 0.3565 - val_loss: 0.4594 - val_precision: 0.4670 - val_recall: 0.6757 - val_f1-score: 0.5406 - val_iou_score: 0.3761\n",
      "Epoch 35/200\n",
      "150/151 [============================>.] - ETA: 0s - loss: 0.4662 - precision: 0.4927 - recall: 0.6393 - f1-score: 0.5337 - iou_score: 0.3734\n",
      "Epoch 35: val_loss did not improve from 0.45543\n",
      "151/151 [==============================] - 3s 20ms/step - loss: 0.4664 - precision: 0.4951 - recall: 0.6370 - f1-score: 0.5330 - iou_score: 0.3728 - val_loss: 0.6261 - val_precision: 0.2451 - val_recall: 0.8598 - val_f1-score: 0.3734 - val_iou_score: 0.2349\n",
      "Epoch 36/200\n",
      "149/151 [============================>.] - ETA: 0s - loss: 0.4839 - precision: 0.4927 - recall: 0.6182 - f1-score: 0.5161 - iou_score: 0.3579\n",
      "Epoch 36: val_loss did not improve from 0.45543\n",
      "151/151 [==============================] - 3s 20ms/step - loss: 0.4842 - precision: 0.4936 - recall: 0.6177 - f1-score: 0.5156 - iou_score: 0.3573 - val_loss: 0.5742 - val_precision: 0.2852 - val_recall: 0.8888 - val_f1-score: 0.4252 - val_iou_score: 0.2758\n",
      "Epoch 37/200\n",
      "149/151 [============================>.] - ETA: 0s - loss: 0.4627 - precision: 0.5025 - recall: 0.6366 - f1-score: 0.5372 - iou_score: 0.3776\n",
      "Epoch 37: val_loss did not improve from 0.45543\n",
      "151/151 [==============================] - 3s 21ms/step - loss: 0.4658 - precision: 0.4967 - recall: 0.6334 - f1-score: 0.5315 - iou_score: 0.3733 - val_loss: 0.5811 - val_precision: 0.2786 - val_recall: 0.8969 - val_f1-score: 0.4184 - val_iou_score: 0.2701\n",
      "Epoch 38/200\n",
      "150/151 [============================>.] - ETA: 0s - loss: 0.4602 - precision: 0.5097 - recall: 0.6318 - f1-score: 0.5397 - iou_score: 0.3780\n",
      "Epoch 38: val_loss did not improve from 0.45543\n",
      "151/151 [==============================] - 3s 21ms/step - loss: 0.4610 - precision: 0.5067 - recall: 0.6292 - f1-score: 0.5367 - iou_score: 0.3758 - val_loss: 0.9795 - val_precision: 0.8858 - val_recall: 0.0103 - val_f1-score: 0.0201 - val_iou_score: 0.0103\n",
      "Epoch 39/200\n",
      "149/151 [============================>.] - ETA: 0s - loss: 0.4632 - precision: 0.4994 - recall: 0.6436 - f1-score: 0.5367 - iou_score: 0.3753\n",
      "Epoch 39: val_loss improved from 0.45543 to 0.44251, saving model to ../data/SAR_dataset/weights\\unet_no_overlap_size_64_filters_4_batch_size_4_lr_0.01.hdf5\n",
      "151/151 [==============================] - 3s 20ms/step - loss: 0.4637 - precision: 0.4972 - recall: 0.6421 - f1-score: 0.5351 - iou_score: 0.3739 - val_loss: 0.4425 - val_precision: 0.4826 - val_recall: 0.6809 - val_f1-score: 0.5571 - val_iou_score: 0.3915\n",
      "Epoch 40/200\n",
      "151/151 [==============================] - ETA: 0s - loss: 0.4700 - precision: 0.4892 - recall: 0.6366 - f1-score: 0.5273 - iou_score: 0.3703\n",
      "Epoch 40: val_loss did not improve from 0.44251\n",
      "151/151 [==============================] - 3s 21ms/step - loss: 0.4700 - precision: 0.4892 - recall: 0.6366 - f1-score: 0.5273 - iou_score: 0.3703 - val_loss: 0.5444 - val_precision: 0.3507 - val_recall: 0.6958 - val_f1-score: 0.4544 - val_iou_score: 0.3007\n",
      "Epoch 41/200\n",
      "150/151 [============================>.] - ETA: 0s - loss: 0.4714 - precision: 0.5027 - recall: 0.6281 - f1-score: 0.5286 - iou_score: 0.3691\n",
      "Epoch 41: val_loss did not improve from 0.44251\n",
      "151/151 [==============================] - 3s 21ms/step - loss: 0.4712 - precision: 0.5030 - recall: 0.6284 - f1-score: 0.5291 - iou_score: 0.3695 - val_loss: 0.4705 - val_precision: 0.5767 - val_recall: 0.5198 - val_f1-score: 0.5296 - val_iou_score: 0.3679\n",
      "Epoch 42/200\n",
      "150/151 [============================>.] - ETA: 0s - loss: 0.4712 - precision: 0.4966 - recall: 0.6340 - f1-score: 0.5287 - iou_score: 0.3695\n",
      "Epoch 42: val_loss did not improve from 0.44251\n",
      "151/151 [==============================] - 3s 21ms/step - loss: 0.4713 - precision: 0.4965 - recall: 0.6333 - f1-score: 0.5285 - iou_score: 0.3693 - val_loss: 0.5127 - val_precision: 0.3544 - val_recall: 0.8164 - val_f1-score: 0.4871 - val_iou_score: 0.3280\n",
      "Epoch 43/200\n",
      "149/151 [============================>.] - ETA: 0s - loss: 0.4717 - precision: 0.4967 - recall: 0.6340 - f1-score: 0.5282 - iou_score: 0.3689\n",
      "Epoch 43: val_loss did not improve from 0.44251\n",
      "151/151 [==============================] - 3s 22ms/step - loss: 0.4731 - precision: 0.4925 - recall: 0.6297 - f1-score: 0.5242 - iou_score: 0.3659 - val_loss: 0.4548 - val_precision: 0.5301 - val_recall: 0.5738 - val_f1-score: 0.5448 - val_iou_score: 0.3790\n",
      "Epoch 44/200\n",
      "151/151 [==============================] - ETA: 0s - loss: 0.4671 - precision: 0.4965 - recall: 0.6364 - f1-score: 0.5327 - iou_score: 0.3712\n",
      "Epoch 44: val_loss did not improve from 0.44251\n",
      "151/151 [==============================] - 3s 22ms/step - loss: 0.4671 - precision: 0.4965 - recall: 0.6364 - f1-score: 0.5327 - iou_score: 0.3712 - val_loss: 0.4934 - val_precision: 0.3781 - val_recall: 0.8057 - val_f1-score: 0.5061 - val_iou_score: 0.3447\n",
      "Epoch 45/200\n",
      "150/151 [============================>.] - ETA: 0s - loss: 0.4631 - precision: 0.5054 - recall: 0.6332 - f1-score: 0.5368 - iou_score: 0.3764\n",
      "Epoch 45: val_loss did not improve from 0.44251\n",
      "151/151 [==============================] - 3s 20ms/step - loss: 0.4633 - precision: 0.5040 - recall: 0.6342 - f1-score: 0.5361 - iou_score: 0.3757 - val_loss: 0.6083 - val_precision: 0.2544 - val_recall: 0.9177 - val_f1-score: 0.3916 - val_iou_score: 0.2485\n",
      "Epoch 46/200\n",
      "149/151 [============================>.] - ETA: 0s - loss: 0.4550 - precision: 0.5052 - recall: 0.6510 - f1-score: 0.5451 - iou_score: 0.3849\n",
      "Epoch 46: val_loss did not improve from 0.44251\n",
      "151/151 [==============================] - 3s 21ms/step - loss: 0.4538 - precision: 0.5086 - recall: 0.6483 - f1-score: 0.5448 - iou_score: 0.3850 - val_loss: 0.5105 - val_precision: 0.6316 - val_recall: 0.4268 - val_f1-score: 0.4891 - val_iou_score: 0.3334\n",
      "Epoch 47/200\n",
      "150/151 [============================>.] - ETA: 0s - loss: 0.4630 - precision: 0.5035 - recall: 0.6412 - f1-score: 0.5370 - iou_score: 0.3770\n",
      "Epoch 47: val_loss did not improve from 0.44251\n",
      "151/151 [==============================] - 3s 20ms/step - loss: 0.4633 - precision: 0.5045 - recall: 0.6387 - f1-score: 0.5359 - iou_score: 0.3761 - val_loss: 0.5334 - val_precision: 0.6031 - val_recall: 0.4148 - val_f1-score: 0.4664 - val_iou_score: 0.3133\n",
      "Epoch 48/200\n",
      "149/151 [============================>.] - ETA: 0s - loss: 0.4561 - precision: 0.5112 - recall: 0.6345 - f1-score: 0.5439 - iou_score: 0.3826\n",
      "Epoch 48: val_loss did not improve from 0.44251\n",
      "151/151 [==============================] - 3s 20ms/step - loss: 0.4559 - precision: 0.5102 - recall: 0.6339 - f1-score: 0.5433 - iou_score: 0.3820 - val_loss: 0.5047 - val_precision: 0.4082 - val_recall: 0.6619 - val_f1-score: 0.4940 - val_iou_score: 0.3351\n",
      "Epoch 49/200\n",
      "151/151 [==============================] - ETA: 0s - loss: 0.4654 - precision: 0.4894 - recall: 0.6501 - f1-score: 0.5319 - iou_score: 0.3741\n",
      "Epoch 49: val_loss did not improve from 0.44251\n",
      "151/151 [==============================] - 3s 20ms/step - loss: 0.4654 - precision: 0.4894 - recall: 0.6501 - f1-score: 0.5319 - iou_score: 0.3741 - val_loss: 0.4545 - val_precision: 0.5510 - val_recall: 0.5655 - val_f1-score: 0.5455 - val_iou_score: 0.3816\n",
      "Epoch 50/200\n",
      "149/151 [============================>.] - ETA: 0s - loss: 0.4447 - precision: 0.5236 - recall: 0.6383 - f1-score: 0.5552 - iou_score: 0.3935\n",
      "Epoch 50: val_loss did not improve from 0.44251\n",
      "151/151 [==============================] - 3s 20ms/step - loss: 0.4442 - precision: 0.5237 - recall: 0.6393 - f1-score: 0.5557 - iou_score: 0.3939 - val_loss: 0.4554 - val_precision: 0.5134 - val_recall: 0.6065 - val_f1-score: 0.5437 - val_iou_score: 0.3801\n",
      "Epoch 51/200\n",
      "150/151 [============================>.] - ETA: 0s - loss: 0.4445 - precision: 0.5189 - recall: 0.6509 - f1-score: 0.5554 - iou_score: 0.3914\n",
      "Epoch 51: val_loss did not improve from 0.44251\n",
      "151/151 [==============================] - 3s 19ms/step - loss: 0.4448 - precision: 0.5184 - recall: 0.6489 - f1-score: 0.5543 - iou_score: 0.3904 - val_loss: 0.5223 - val_precision: 0.3704 - val_recall: 0.7230 - val_f1-score: 0.4771 - val_iou_score: 0.3205\n",
      "Epoch 52/200\n",
      "151/151 [==============================] - ETA: 0s - loss: 0.4545 - precision: 0.5135 - recall: 0.6475 - f1-score: 0.5449 - iou_score: 0.3851\n",
      "Epoch 52: val_loss did not improve from 0.44251\n",
      "151/151 [==============================] - 3s 19ms/step - loss: 0.4545 - precision: 0.5135 - recall: 0.6475 - f1-score: 0.5449 - iou_score: 0.3851 - val_loss: 0.4693 - val_precision: 0.4115 - val_recall: 0.7737 - val_f1-score: 0.5305 - val_iou_score: 0.3662\n",
      "Epoch 53/200\n",
      "150/151 [============================>.] - ETA: 0s - loss: 0.4623 - precision: 0.5038 - recall: 0.6408 - f1-score: 0.5376 - iou_score: 0.3776\n",
      "Epoch 53: val_loss did not improve from 0.44251\n",
      "151/151 [==============================] - 3s 22ms/step - loss: 0.4632 - precision: 0.5004 - recall: 0.6365 - f1-score: 0.5341 - iou_score: 0.3751 - val_loss: 0.4447 - val_precision: 0.4893 - val_recall: 0.6649 - val_f1-score: 0.5553 - val_iou_score: 0.3895\n",
      "Epoch 54/200\n",
      "150/151 [============================>.] - ETA: 0s - loss: 0.4569 - precision: 0.5182 - recall: 0.6280 - f1-score: 0.5430 - iou_score: 0.3818\n",
      "Epoch 54: val_loss did not improve from 0.44251\n",
      "151/151 [==============================] - 3s 20ms/step - loss: 0.4571 - precision: 0.5169 - recall: 0.6280 - f1-score: 0.5423 - iou_score: 0.3811 - val_loss: 0.4665 - val_precision: 0.4445 - val_recall: 0.6898 - val_f1-score: 0.5332 - val_iou_score: 0.3682\n",
      "Epoch 55/200\n",
      "149/151 [============================>.] - ETA: 0s - loss: 0.4691 - precision: 0.4995 - recall: 0.6326 - f1-score: 0.5308 - iou_score: 0.3722\n",
      "Epoch 55: val_loss did not improve from 0.44251\n",
      "151/151 [==============================] - 3s 21ms/step - loss: 0.4687 - precision: 0.4982 - recall: 0.6340 - f1-score: 0.5307 - iou_score: 0.3720 - val_loss: 0.4706 - val_precision: 0.4595 - val_recall: 0.6501 - val_f1-score: 0.5295 - val_iou_score: 0.3649\n",
      "Epoch 56/200\n",
      "149/151 [============================>.] - ETA: 0s - loss: 0.4550 - precision: 0.5103 - recall: 0.6409 - f1-score: 0.5449 - iou_score: 0.3842\n",
      "Epoch 56: val_loss did not improve from 0.44251\n",
      "151/151 [==============================] - 3s 20ms/step - loss: 0.4548 - precision: 0.5115 - recall: 0.6394 - f1-score: 0.5447 - iou_score: 0.3838 - val_loss: 0.5629 - val_precision: 0.6478 - val_recall: 0.3583 - val_f1-score: 0.4361 - val_iou_score: 0.2902\n",
      "Epoch 57/200\n",
      "150/151 [============================>.] - ETA: 0s - loss: 0.4631 - precision: 0.4985 - recall: 0.6509 - f1-score: 0.5369 - iou_score: 0.3763\n",
      "Epoch 57: val_loss did not improve from 0.44251\n",
      "151/151 [==============================] - 3s 21ms/step - loss: 0.4630 - precision: 0.4988 - recall: 0.6511 - f1-score: 0.5373 - iou_score: 0.3766 - val_loss: 0.4618 - val_precision: 0.4693 - val_recall: 0.6530 - val_f1-score: 0.5375 - val_iou_score: 0.3733\n",
      "Epoch 58/200\n",
      "151/151 [==============================] - ETA: 0s - loss: 0.4546 - precision: 0.5154 - recall: 0.6318 - f1-score: 0.5452 - iou_score: 0.3840\n",
      "Epoch 58: val_loss did not improve from 0.44251\n",
      "151/151 [==============================] - 3s 22ms/step - loss: 0.4546 - precision: 0.5154 - recall: 0.6318 - f1-score: 0.5452 - iou_score: 0.3840 - val_loss: 0.5744 - val_precision: 0.6084 - val_recall: 0.3629 - val_f1-score: 0.4242 - val_iou_score: 0.2826\n",
      "Epoch 59/200\n",
      "148/151 [============================>.] - ETA: 0s - loss: 0.4498 - precision: 0.5252 - recall: 0.6328 - f1-score: 0.5500 - iou_score: 0.3882\n",
      "Epoch 59: val_loss did not improve from 0.44251\n",
      "151/151 [==============================] - 3s 19ms/step - loss: 0.4499 - precision: 0.5231 - recall: 0.6300 - f1-score: 0.5474 - iou_score: 0.3864 - val_loss: 0.5409 - val_precision: 0.6487 - val_recall: 0.3802 - val_f1-score: 0.4584 - val_iou_score: 0.3062\n",
      "Epoch 60/200\n",
      "150/151 [============================>.] - ETA: 0s - loss: 0.4654 - precision: 0.4996 - recall: 0.6389 - f1-score: 0.5346 - iou_score: 0.3760\n",
      "Epoch 60: val_loss did not improve from 0.44251\n",
      "151/151 [==============================] - 3s 19ms/step - loss: 0.4652 - precision: 0.5004 - recall: 0.6387 - f1-score: 0.5352 - iou_score: 0.3765 - val_loss: 0.6631 - val_precision: 0.2092 - val_recall: 0.9527 - val_f1-score: 0.3365 - val_iou_score: 0.2067\n",
      "Epoch 61/200\n",
      "150/151 [============================>.] - ETA: 0s - loss: 0.4563 - precision: 0.5191 - recall: 0.6251 - f1-score: 0.5436 - iou_score: 0.3830\n",
      "Epoch 61: val_loss did not improve from 0.44251\n",
      "151/151 [==============================] - 3s 20ms/step - loss: 0.4572 - precision: 0.5158 - recall: 0.6227 - f1-score: 0.5401 - iou_score: 0.3805 - val_loss: 0.4670 - val_precision: 0.5640 - val_recall: 0.5354 - val_f1-score: 0.5333 - val_iou_score: 0.3702\n",
      "Epoch 62/200\n",
      "151/151 [==============================] - ETA: 0s - loss: 0.4485 - precision: 0.5135 - recall: 0.6489 - f1-score: 0.5511 - iou_score: 0.3900\n",
      "Epoch 62: val_loss did not improve from 0.44251\n",
      "151/151 [==============================] - 3s 20ms/step - loss: 0.4485 - precision: 0.5135 - recall: 0.6489 - f1-score: 0.5511 - iou_score: 0.3900 - val_loss: 0.5083 - val_precision: 0.6173 - val_recall: 0.4339 - val_f1-score: 0.4917 - val_iou_score: 0.3347\n",
      "Epoch 63/200\n",
      "149/151 [============================>.] - ETA: 0s - loss: 0.4602 - precision: 0.5040 - recall: 0.6433 - f1-score: 0.5398 - iou_score: 0.3811\n",
      "Epoch 63: val_loss did not improve from 0.44251\n",
      "151/151 [==============================] - 3s 19ms/step - loss: 0.4603 - precision: 0.5013 - recall: 0.6396 - f1-score: 0.5369 - iou_score: 0.3792 - val_loss: 0.4635 - val_precision: 0.4514 - val_recall: 0.6839 - val_f1-score: 0.5361 - val_iou_score: 0.3721\n",
      "Epoch 64/200\n",
      "150/151 [============================>.] - ETA: 0s - loss: 0.4549 - precision: 0.5148 - recall: 0.6423 - f1-score: 0.5451 - iou_score: 0.3852\n",
      "Epoch 64: val_loss did not improve from 0.44251\n",
      "151/151 [==============================] - 3s 20ms/step - loss: 0.4552 - precision: 0.5130 - recall: 0.6430 - f1-score: 0.5440 - iou_score: 0.3842 - val_loss: 0.4797 - val_precision: 0.3923 - val_recall: 0.7975 - val_f1-score: 0.5203 - val_iou_score: 0.3570\n",
      "Epoch 65/200\n",
      "150/151 [============================>.] - ETA: 0s - loss: 0.4478 - precision: 0.5176 - recall: 0.6399 - f1-score: 0.5521 - iou_score: 0.3901\n",
      "Epoch 65: val_loss did not improve from 0.44251\n",
      "151/151 [==============================] - 3s 21ms/step - loss: 0.4481 - precision: 0.5193 - recall: 0.6376 - f1-score: 0.5512 - iou_score: 0.3892 - val_loss: 0.5586 - val_precision: 0.3137 - val_recall: 0.7993 - val_f1-score: 0.4410 - val_iou_score: 0.2888\n",
      "Epoch 66/200\n",
      "151/151 [==============================] - ETA: 0s - loss: 0.4594 - precision: 0.5112 - recall: 0.6294 - f1-score: 0.5393 - iou_score: 0.3792\n",
      "Epoch 66: val_loss did not improve from 0.44251\n",
      "151/151 [==============================] - 3s 21ms/step - loss: 0.4594 - precision: 0.5112 - recall: 0.6294 - f1-score: 0.5393 - iou_score: 0.3792 - val_loss: 0.4585 - val_precision: 0.4378 - val_recall: 0.7307 - val_f1-score: 0.5414 - val_iou_score: 0.3767\n",
      "Epoch 67/200\n",
      "149/151 [============================>.] - ETA: 0s - loss: 0.4430 - precision: 0.5229 - recall: 0.6446 - f1-score: 0.5570 - iou_score: 0.3942\n",
      "Epoch 67: val_loss did not improve from 0.44251\n",
      "151/151 [==============================] - 3s 22ms/step - loss: 0.4443 - precision: 0.5192 - recall: 0.6440 - f1-score: 0.5540 - iou_score: 0.3917 - val_loss: 0.4648 - val_precision: 0.5795 - val_recall: 0.5266 - val_f1-score: 0.5347 - val_iou_score: 0.3720\n",
      "Epoch 68/200\n",
      "150/151 [============================>.] - ETA: 0s - loss: 0.4426 - precision: 0.5254 - recall: 0.6396 - f1-score: 0.5573 - iou_score: 0.3946\n",
      "Epoch 68: val_loss did not improve from 0.44251\n",
      "151/151 [==============================] - 3s 21ms/step - loss: 0.4435 - precision: 0.5220 - recall: 0.6358 - f1-score: 0.5537 - iou_score: 0.3920 - val_loss: 0.8611 - val_precision: 0.8078 - val_recall: 0.0792 - val_f1-score: 0.1380 - val_iou_score: 0.0771\n",
      "Epoch 69/200\n",
      "151/151 [==============================] - ETA: 0s - loss: 0.4551 - precision: 0.5060 - recall: 0.6471 - f1-score: 0.5429 - iou_score: 0.3829\n",
      "Epoch 69: val_loss did not improve from 0.44251\n",
      "151/151 [==============================] - 3s 21ms/step - loss: 0.4551 - precision: 0.5060 - recall: 0.6471 - f1-score: 0.5429 - iou_score: 0.3829 - val_loss: 0.5014 - val_precision: 0.5851 - val_recall: 0.4615 - val_f1-score: 0.4976 - val_iou_score: 0.3393\n"
     ]
    },
    {
     "data": {
      "image/png": "[encoded data removed]",
      "text/plain": [
       "<Figure size 432x288 with 1 Axes>"
      ]
     },
     "metadata": {
      "needs_background": "light"
     },
     "output_type": "display_data"
    },
    {
     "data": {
      "image/png": "[encoded data removed]",
      "text/plain": [
       "<Figure size 432x288 with 1 Axes>"
      ]
     },
     "metadata": {
      "needs_background": "light"
     },
     "output_type": "display_data"
    },
    {
     "name": "stdout",
     "output_type": "stream",
     "text": [
      "6/6 [==============================] - 1s 32ms/step - loss: 0.4239 - precision: 0.4869 - recall: 0.7008 - f1-score: 0.5743 - iou_score: 0.4049\n"
     ]
    }
   ],
   "source": [
    "# 遍历不同的滤波器数量、学习率和批量大小以训练多个模型\n",
    "# 滤波器数量循环\n",
    "for fiilter in filters: \n",
    "    # 学习率循环\n",
    "    for learning_rate in lr:\n",
    "        #  批量大小循环\n",
    "        for batch in batch_size:\n",
    "            # 使用当前的超参数设置加载模型\n",
    "            model = attn_unet(filtersFirstLayer= fiilter, lr = learning_rate, input_size = (size,size,img_bands))\n",
    "             # 设置早停法回调，防止过拟合，如果验证集上的损失在30轮内没有改善则停止训练\n",
    "            early_stop = keras.callbacks.EarlyStopping(monitor = 'val_loss',  # 监控验证集上的损失\n",
    "                              patience = 30, \n",
    "                              restore_best_weights = True) # 恢复到最佳模型的权重\n",
    "            # 设置模型检查点回调，在每个时期结束时保存模型，只有当验证集上的损失减少时才会保存模型\n",
    "            model_checkpoint = tf.keras.callbacks.ModelCheckpoint(f'../data/SAR_dataset/weights/unet_{sampling}_size_{size}_filters_{fiilter}_batch_size_{batch}_lr_{learning_rate}.hdf5', monitor='val_loss', mode='min',verbose=1, save_best_only=True,save_weights_only = True)\n",
    "            # 打印当前的超参数设置\n",
    "            print(fiilter, learning_rate,batch)\n",
    "            #  开始训练模型，使用20%的数据作为验证集\n",
    "            history = model.fit(X_train,Y_train,batch_size = batch,epochs=epochs,validation_split=0.2,callbacks = [model_checkpoint, early_stop])\n",
    "            #  绘制和保存F1分数变化图表，帮助可视化训练和验证性能\n",
    "            plt.plot(history.history['f1-score'])\n",
    "            plt.plot(history.history['val_f1-score'])\n",
    "            plt.title('model f1-score')\n",
    "            plt.ylabel('f1-score')\n",
    "            plt.xlabel('epoch')\n",
    "            plt.legend(['train', 'validation'], loc='upper left')\n",
    "            plt.savefig(f\"../data/SAR_dataset/plots/unet_{sampling}_size_{size}_filters_{fiilter}_batch_size_{batch}_lr_{learning_rate}_f1_score.png\")\n",
    "            plt.show()\n",
    "            \n",
    "            \n",
    "            #  绘制和保存损失函数变化图表\n",
    "            plt.plot(history.history['loss'])\n",
    "            plt.plot(history.history['val_loss'])\n",
    "            plt.title('model loss')\n",
    "            plt.ylabel('loss')\n",
    "            plt.xlabel('epoch')\n",
    "            plt.legend(['train', 'validation'], loc='upper left')\n",
    "            plt.savefig(f\"../data/SAR_dataset/plots/unet_{sampling}_size_{size}_filters_{fiilter}_batch_size_{batch}_lr_{learning_rate}_val_loss.png\")\n",
    "            plt.show()\n",
    "            \n",
    "            \n",
    "             # 评估模型在测试数据上的性能\n",
    "            attn_unet = attn_unet(filtersFirstLayer= fiilter, lr = learning_rate,input_size=(size,size,img_bands))\n",
    "            attn_unet.load_weights(f\"../data/SAR_dataset/weights/unet_{sampling}_size_{size}_filters_{fiilter}_batch_size_{batch}_lr_{learning_rate}.hdf5\")\n",
    "            res_1= attn_unet.evaluate(X_test,Y_test)\n",
    "            # 将模型的性能指标添加到结果字典\n",
    "            dic[\"model\"].append(\"Attention_Unet\")\n",
    "            dic[\"batch_size\"].append(batch)\n",
    "            dic[\"learning_rate\"].append(learning_rate)\n",
    "            dic[\"filters\"].append(fiilter)\n",
    "            dic[\"precision_area\"].append(res_1[1])\n",
    "            dic[\"recall_area\"].append(res_1[2])\n",
    "            dic[\"f1_score_area\"].append(res_1[3])\n",
    "            dic[\"iou_score_area\"].append(res_1[4])\n",
    "            \n",
    "\n",
    "\n",
    "            #将结果字典转化为DataFrame并导出到CSV文件，方便之后分析和比较\n",
    "            results = pd.DataFrame(dic)\n",
    "            results.to_csv(f'../data/SAR_dataset/results/results_Att_Unet.csv', index = False)\n"
   ]
  }
 ],
 "metadata": {
  "kernelspec": {
   "display_name": "Python 3.8.5 ('base')",
   "language": "python",
   "name": "python3"
  },
  "language_info": {
   "codemirror_mode": {
    "name": "ipython",
    "version": 3
   },
   "file_extension": ".py",
   "mimetype": "text/x-python",
   "name": "python",
   "nbconvert_exporter": "python",
   "pygments_lexer": "ipython3",
   "version": "3.8.5"
  },
  "orig_nbformat": 4,
  "vscode": {
   "interpreter": {
    "hash": "587a2e50e85b4f56756ab2c01631d0260799c2c0691c88ec45388e613d7a7cba"
   }
  }
 },
 "nbformat": 4,
 "nbformat_minor": 2
}
